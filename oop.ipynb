{
 "cells": [
  {
   "cell_type": "code",
   "execution_count": 16,
   "metadata": {},
   "outputs": [
    {
     "name": "stdout",
     "output_type": "stream",
     "text": [
      "10\n",
      "20\n"
     ]
    }
   ],
   "source": [
    "# creating a class called A\n",
    "class A:\n",
    "    def __init__(self):  # this is a constructor\n",
    "        self.a = 10      # this is a variable\n",
    "        self.b = 20\n",
    "    def m1(self):        # method of a class\n",
    "        print(self.a)\n",
    "        print(self.b)\n",
    "a=A()                    # this is an object\n",
    "a.m1()"
   ]
  },
  {
   "cell_type": "code",
   "execution_count": 17,
   "metadata": {},
   "outputs": [
    {
     "name": "stdout",
     "output_type": "stream",
     "text": [
      "Eating\n"
     ]
    }
   ],
   "source": [
    "class Friuts:\n",
    "    def __init__(self, name, color, taste):\n",
    "        self.name = name\n",
    "        self.color = color\n",
    "        self.taste = taste\n",
    "    def eat(self):\n",
    "        print(\"Eating\")\n",
    "apple=Friuts(\"apple\",\"red\",\"sweet\")\n",
    "apple.eat()"
   ]
  },
  {
   "cell_type": "code",
   "execution_count": 18,
   "metadata": {},
   "outputs": [],
   "source": [
    "# creating a class called Employee\n",
    "class Employee:\n",
    "    def __init__(self, name, salary):\n",
    "        self.name = name\n",
    "        self.salary = salary\n",
    "    def give_raise(self, amount):\n",
    "        self.salary += amount\n",
    "        return self.salary"
   ]
  },
  {
   "cell_type": "code",
   "execution_count": 19,
   "metadata": {},
   "outputs": [
    {
     "data": {
      "text/plain": [
       "10500"
      ]
     },
     "execution_count": 19,
     "metadata": {},
     "output_type": "execute_result"
    }
   ],
   "source": [
    "# Inheritance example\n",
    "class Developer(Employee):\n",
    "    def __init__(self, name, salary, programming_language):\n",
    "        super().__init__(name, salary)\n",
    "        self.programming_language = programming_language\n",
    "    \n",
    "shahroz=Developer(\"Shahroz\", 10000, \"Python\")\n",
    "shahroz.give_raise(500)"
   ]
  },
  {
   "cell_type": "code",
   "execution_count": 20,
   "metadata": {},
   "outputs": [],
   "source": [
    "# Animal class\n",
    "class Animal:\n",
    "    def __init__(self,name,breed,color,sound):\n",
    "        self.name = name\n",
    "        self.breed = breed\n",
    "        self.color = color\n",
    "        self.sound = sound\n",
    "    def speak(self):\n",
    "        pass\n",
    "        "
   ]
  },
  {
   "cell_type": "code",
   "execution_count": 21,
   "metadata": {},
   "outputs": [],
   "source": [
    "# polymorphism\n",
    "class Dog(Animal):\n",
    "    def __init__(self,name,breed,color,sound):\n",
    "        super().__init__(name,breed,color,sound)\n",
    "    def speak(self):\n",
    "        print(\"Woof!\")\n",
    "class Cat(Animal):\n",
    "    def __init__(self,name,breed,color,sound):\n",
    "        super().__init__(name,breed,color,sound)\n",
    "    def speak(self):\n",
    "        print(\"Meow!\")"
   ]
  },
  {
   "cell_type": "code",
   "execution_count": 23,
   "metadata": {},
   "outputs": [
    {
     "name": "stdout",
     "output_type": "stream",
     "text": [
      "Woof!\n",
      "Meow!\n"
     ]
    }
   ],
   "source": [
    "dog=Dog(\"Rex\",\"Husky\",\"Red\",\"Bark\")\n",
    "cat=Cat(\"Tom\",\"Persian\",\"Black\",\"Meow\")\n",
    "dog.speak()\n",
    "cat.speak()"
   ]
  },
  {
   "cell_type": "code",
   "execution_count": 24,
   "metadata": {},
   "outputs": [
    {
     "name": "stdout",
     "output_type": "stream",
     "text": [
      "50\n",
      "28.274309999999996\n"
     ]
    }
   ],
   "source": [
    "class Shape:\n",
    "    def area(self):\n",
    "        pass\n",
    "\n",
    "class Rectangle(Shape):\n",
    "    def area(self, length, width):\n",
    "        return length * width\n",
    "\n",
    "class Circle(Shape):\n",
    "    def area(self, radius):\n",
    "        return 3.14159 * radius * radius\n",
    "\n",
    "rectangle = Rectangle()\n",
    "circle = Circle()\n",
    "\n",
    "print(rectangle.area(5, 10))  # Output: 50\n",
    "print(circle.area(3))  # Output: 28.27431"
   ]
  },
  {
   "cell_type": "code",
   "execution_count": null,
   "metadata": {},
   "outputs": [],
   "source": []
  }
 ],
 "metadata": {
  "kernelspec": {
   "display_name": "Python 3",
   "language": "python",
   "name": "python3"
  },
  "language_info": {
   "codemirror_mode": {
    "name": "ipython",
    "version": 3
   },
   "file_extension": ".py",
   "mimetype": "text/x-python",
   "name": "python",
   "nbconvert_exporter": "python",
   "pygments_lexer": "ipython3",
   "version": "3.11.4"
  },
  "orig_nbformat": 4
 },
 "nbformat": 4,
 "nbformat_minor": 2
}
