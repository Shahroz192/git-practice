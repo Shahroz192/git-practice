{
 "cells": [
  {
   "cell_type": "markdown",
   "metadata": {},
   "source": [
    "**strings**"
   ]
  },
  {
   "cell_type": "code",
   "execution_count": 26,
   "metadata": {},
   "outputs": [
    {
     "name": "stdout",
     "output_type": "stream",
     "text": [
      "  i am shahroz  \n"
     ]
    }
   ],
   "source": [
    "str=\"  i am shahroz  \"\n",
    "print(str)"
   ]
  },
  {
   "cell_type": "code",
   "execution_count": 27,
   "metadata": {},
   "outputs": [
    {
     "name": "stdout",
     "output_type": "stream",
     "text": [
      " \n",
      " \n",
      "i\n",
      " \n",
      "a\n",
      "m\n",
      " \n",
      "s\n",
      "h\n",
      "a\n",
      "h\n",
      "r\n",
      "o\n",
      "z\n",
      " \n",
      " \n"
     ]
    }
   ],
   "source": [
    "#iterable\n",
    "for i in str:\n",
    "    print(i)"
   ]
  },
  {
   "cell_type": "code",
   "execution_count": 28,
   "metadata": {},
   "outputs": [
    {
     "name": "stdout",
     "output_type": "stream",
     "text": [
      "  i a\n",
      "  i am shahroz  \n",
      "  i a\n",
      "  ms\n"
     ]
    }
   ],
   "source": [
    "#string slicing\n",
    "print(str[0:5])\n",
    "print(str[0:])\n",
    "print(str[:5])\n",
    "print(str[1:9:2])"
   ]
  },
  {
   "cell_type": "code",
   "execution_count": 29,
   "metadata": {},
   "outputs": [
    {
     "name": "stdout",
     "output_type": "stream",
     "text": [
      "  zorhahs ma i  \n"
     ]
    }
   ],
   "source": [
    "#reverse string using slicing\n",
    "print(str[::-1])"
   ]
  },
  {
   "cell_type": "code",
   "execution_count": 30,
   "metadata": {},
   "outputs": [
    {
     "name": "stdout",
     "output_type": "stream",
     "text": [
      "  I AM SHAHROZ  \n",
      "  i am shahroz  \n",
      "  i am shahroz  \n",
      "  I AM SHAHROZ  \n",
      "i am shahroz\n",
      "['i', 'am', 'shahroz']\n"
     ]
    }
   ],
   "source": [
    "# string methods\n",
    "print(str.upper())\n",
    "print(str.lower())\n",
    "print(str.capitalize())\n",
    "print(str.swapcase())\n",
    "print(str.strip())\n",
    "print(str.split())"
   ]
  },
  {
   "cell_type": "code",
   "execution_count": 31,
   "metadata": {},
   "outputs": [
    {
     "ename": "TypeError",
     "evalue": "'str' object does not support item assignment",
     "output_type": "error",
     "traceback": [
      "\u001b[1;31m---------------------------------------------------------------------------\u001b[0m",
      "\u001b[1;31mTypeError\u001b[0m                                 Traceback (most recent call last)",
      "\u001b[1;32md:\\python\\git-practice\\string.ipynb Cell 7\u001b[0m line \u001b[0;36m2\n\u001b[0;32m      <a href='vscode-notebook-cell:/d%3A/python/git-practice/string.ipynb#W6sZmlsZQ%3D%3D?line=0'>1</a>\u001b[0m \u001b[39m#string are immutable\u001b[39;00m\n\u001b[1;32m----> <a href='vscode-notebook-cell:/d%3A/python/git-practice/string.ipynb#W6sZmlsZQ%3D%3D?line=1'>2</a>\u001b[0m \u001b[39mstr\u001b[39m[\u001b[39m4\u001b[39m]\u001b[39m=\u001b[39m\u001b[39m\"\u001b[39m\u001b[39ms\u001b[39m\u001b[39m\"\u001b[39m\n",
      "\u001b[1;31mTypeError\u001b[0m: 'str' object does not support item assignment"
     ]
    }
   ],
   "source": [
    "#string are immutable\n",
    "str[4]=\"s\"\n"
   ]
  },
  {
   "cell_type": "code",
   "execution_count": null,
   "metadata": {},
   "outputs": [],
   "source": []
  }
 ],
 "metadata": {
  "kernelspec": {
   "display_name": "base",
   "language": "python",
   "name": "python3"
  },
  "language_info": {
   "codemirror_mode": {
    "name": "ipython",
    "version": 3
   },
   "file_extension": ".py",
   "mimetype": "text/x-python",
   "name": "python",
   "nbconvert_exporter": "python",
   "pygments_lexer": "ipython3",
   "version": "3.11.4"
  },
  "orig_nbformat": 4
 },
 "nbformat": 4,
 "nbformat_minor": 2
}
