{
 "cells": [
  {
   "cell_type": "markdown",
   "metadata": {},
   "source": [
    "**strings**"
   ]
  },
  {
   "cell_type": "code",
   "execution_count": 39,
   "metadata": {},
   "outputs": [
    {
     "name": "stdout",
     "output_type": "stream",
     "text": [
      "  i am shahroz  \n"
     ]
    }
   ],
   "source": [
    "str=\"  i am shahroz  \"\n",
    "print(str)"
   ]
  },
  {
   "cell_type": "code",
   "execution_count": 40,
   "metadata": {},
   "outputs": [
    {
     "name": "stdout",
     "output_type": "stream",
     "text": [
      "shahroz Butt\n"
     ]
    }
   ],
   "source": [
    "#string concatination\n",
    "f_name=\"shahroz\"\n",
    "l_name=\"Butt\"\n",
    "full_name=f_name+\" \"+l_name\n",
    "print(full_name)"
   ]
  },
  {
   "cell_type": "code",
   "execution_count": 41,
   "metadata": {},
   "outputs": [
    {
     "name": "stdout",
     "output_type": "stream",
     "text": [
      " \n",
      " \n",
      "i\n",
      " \n",
      "a\n",
      "m\n",
      " \n",
      "s\n",
      "h\n",
      "a\n",
      "h\n",
      "r\n",
      "o\n",
      "z\n",
      " \n",
      " \n"
     ]
    }
   ],
   "source": [
    "#iterable\n",
    "for i in str:\n",
    "    print(i)"
   ]
  },
  {
   "cell_type": "code",
   "execution_count": 42,
   "metadata": {},
   "outputs": [
    {
     "name": "stdout",
     "output_type": "stream",
     "text": [
      "  i a\n",
      "  i am shahroz  \n",
      "  i a\n",
      "  ms\n"
     ]
    }
   ],
   "source": [
    "#string slicing\n",
    "print(str[0:5])\n",
    "print(str[0:])\n",
    "print(str[:5])\n",
    "print(str[1:9:2])"
   ]
  },
  {
   "cell_type": "code",
   "execution_count": 43,
   "metadata": {},
   "outputs": [
    {
     "name": "stdout",
     "output_type": "stream",
     "text": [
      "  zorhahs ma i  \n"
     ]
    }
   ],
   "source": [
    "#reverse string using slicing\n",
    "print(str[::-1])"
   ]
  },
  {
   "cell_type": "code",
   "execution_count": 44,
   "metadata": {},
   "outputs": [
    {
     "name": "stdout",
     "output_type": "stream",
     "text": [
      "  I AM SHAHROZ  \n",
      "  i am shahroz  \n",
      "  i am shahroz  \n",
      "  I AM SHAHROZ  \n",
      "i am shahroz\n",
      "['i', 'am', 'shahroz']\n"
     ]
    }
   ],
   "source": [
    "# string methods\n",
    "print(str.upper())\n",
    "print(str.lower())\n",
    "print(str.capitalize())\n",
    "print(str.swapcase())\n",
    "print(str.strip())\n",
    "print(str.split())"
   ]
  },
  {
   "cell_type": "code",
   "execution_count": 45,
   "metadata": {},
   "outputs": [
    {
     "ename": "TypeError",
     "evalue": "'str' object does not support item assignment",
     "output_type": "error",
     "traceback": [
      "\u001b[1;31m---------------------------------------------------------------------------\u001b[0m",
      "\u001b[1;31mTypeError\u001b[0m                                 Traceback (most recent call last)",
      "\u001b[1;32md:\\python\\git-practice\\string.ipynb Cell 8\u001b[0m line \u001b[0;36m2\n\u001b[0;32m      <a href='vscode-notebook-cell:/d%3A/python/git-practice/string.ipynb#W6sZmlsZQ%3D%3D?line=0'>1</a>\u001b[0m \u001b[39m#string are immutable\u001b[39;00m\n\u001b[1;32m----> <a href='vscode-notebook-cell:/d%3A/python/git-practice/string.ipynb#W6sZmlsZQ%3D%3D?line=1'>2</a>\u001b[0m \u001b[39mstr\u001b[39m[\u001b[39m4\u001b[39m]\u001b[39m=\u001b[39m\u001b[39m\"\u001b[39m\u001b[39ms\u001b[39m\u001b[39m\"\u001b[39m\n",
      "\u001b[1;31mTypeError\u001b[0m: 'str' object does not support item assignment"
     ]
    }
   ],
   "source": [
    "#string are immutable\n",
    "str[4]=\"s\"\n"
   ]
  },
  {
   "cell_type": "code",
   "execution_count": 46,
   "metadata": {},
   "outputs": [
    {
     "name": "stdout",
     "output_type": "stream",
     "text": [
      "3\n"
     ]
    }
   ],
   "source": [
    "word = 'banana'\n",
    "count = 0\n",
    "for letter in word :\n",
    "    if letter == 'a' :\n",
    "        count = count + 1\n",
    "print(count)"
   ]
  },
  {
   "cell_type": "code",
   "execution_count": 8,
   "metadata": {},
   "outputs": [
    {
     "name": "stdout",
     "output_type": "stream",
     "text": [
      "Extracted email: shahroz@gmail.com\n"
     ]
    }
   ],
   "source": [
    "#string extraction\n",
    "def extract_email(input_str):\n",
    "    words = input_str.split()\n",
    "    for word in words:\n",
    "        if '@' in word and '.' in word:\n",
    "            email_parts = word.split('@')\n",
    "            if len(email_parts) == 2:\n",
    "                domain_parts = email_parts[1].split('.')\n",
    "                if len(domain_parts) >= 2:\n",
    "                    return word\n",
    "    return \"\"\n",
    "\n",
    "line = \"My email is shahroz@gmail.com\"\n",
    "extracted_email = extract_email(line)\n",
    "if extracted_email:\n",
    "    print(\"Extracted email:\", extracted_email)\n",
    "else:\n",
    "    print(\"No email found in the string.\")\n",
    "\n",
    "\n"
   ]
  },
  {
   "cell_type": "code",
   "execution_count": null,
   "metadata": {},
   "outputs": [],
   "source": []
  }
 ],
 "metadata": {
  "kernelspec": {
   "display_name": "base",
   "language": "python",
   "name": "python3"
  },
  "language_info": {
   "codemirror_mode": {
    "name": "ipython",
    "version": 3
   },
   "file_extension": ".py",
   "mimetype": "text/x-python",
   "name": "python",
   "nbconvert_exporter": "python",
   "pygments_lexer": "ipython3",
   "version": "3.11.4"
  },
  "orig_nbformat": 4
 },
 "nbformat": 4,
 "nbformat_minor": 2
}
