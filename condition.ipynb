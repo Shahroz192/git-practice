{
 "cells": [
  {
   "cell_type": "code",
   "execution_count": 7,
   "metadata": {},
   "outputs": [],
   "source": [
    "a = 10\n",
    "b = 20"
   ]
  },
  {
   "cell_type": "code",
   "execution_count": 8,
   "metadata": {},
   "outputs": [
    {
     "name": "stdout",
     "output_type": "stream",
     "text": [
      "a is less than b\n"
     ]
    }
   ],
   "source": [
    "#one way\n",
    "if a > b:\n",
    "  print(\"a is greater than b\")\n",
    "\n",
    "elif a == b:\n",
    "  print(\"a is equal to b\")\n",
    "\n",
    "else:\n",
    "  print(\"a is less than b\")\n"
   ]
  },
  {
   "cell_type": "code",
   "execution_count": 9,
   "metadata": {},
   "outputs": [
    {
     "name": "stdout",
     "output_type": "stream",
     "text": [
      "a is less than b\n"
     ]
    }
   ],
   "source": [
    "# two way\n",
    "if a > b:\n",
    "  print(\"a is greater than b\")\n",
    "else:\n",
    "  print(\"a is less than b\")\n"
   ]
  },
  {
   "cell_type": "code",
   "execution_count": 10,
   "metadata": {},
   "outputs": [
    {
     "name": "stdout",
     "output_type": "stream",
     "text": [
      "a is less than b\n"
     ]
    }
   ],
   "source": [
    "# multi way\n",
    "if a > b:\n",
    "  print(\"a is greater than b\")\n",
    "\n",
    "elif a == b:\n",
    "  print(\"a is equal to b\")\n",
    "\n",
    "else:\n",
    "  print(\"a is less than b\")"
   ]
  },
  {
   "cell_type": "code",
   "execution_count": 11,
   "metadata": {},
   "outputs": [
    {
     "name": "stdout",
     "output_type": "stream",
     "text": [
      "Bigger than 2\n",
      "Still bigger\n",
      "Done with 2\n"
     ]
    }
   ],
   "source": [
    "#multiple print statements\n",
    "x = 5\n",
    "if x > 2 :\n",
    "    print('Bigger than 2')\n",
    "    print('Still bigger')\n",
    "    print('Done with 2')"
   ]
  },
  {
   "cell_type": "code",
   "execution_count": 12,
   "metadata": {},
   "outputs": [
    {
     "name": "stdout",
     "output_type": "stream",
     "text": [
      "More than one\n",
      "Less than 100\n",
      "All done\n"
     ]
    }
   ],
   "source": [
    "#nested condition\n",
    "x = 42\n",
    "if x > 1 :\n",
    "    print('More than one')\n",
    "    if x < 100 :\n",
    "        print('Less than 100')\n",
    "        print('All done')\n"
   ]
  },
  {
   "cell_type": "code",
   "execution_count": null,
   "metadata": {},
   "outputs": [],
   "source": []
  }
 ],
 "metadata": {
  "kernelspec": {
   "display_name": "Python 3",
   "language": "python",
   "name": "python3"
  },
  "language_info": {
   "codemirror_mode": {
    "name": "ipython",
    "version": 3
   },
   "file_extension": ".py",
   "mimetype": "text/x-python",
   "name": "python",
   "nbconvert_exporter": "python",
   "pygments_lexer": "ipython3",
   "version": "3.11.4"
  },
  "orig_nbformat": 4
 },
 "nbformat": 4,
 "nbformat_minor": 2
}
